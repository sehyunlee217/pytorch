{
 "cells": [
  {
   "cell_type": "code",
   "execution_count": 1,
   "id": "cd6b450a-95e4-4e08-824f-25f7858b3343",
   "metadata": {},
   "outputs": [],
   "source": [
    "class Employee: \n",
    "    def __init__(self, name, age):\n",
    "        self.name = name\n",
    "        self.age = age\n",
    "        "
   ]
  },
  {
   "cell_type": "code",
   "execution_count": 26,
   "id": "af75d65a-4347-46c2-b0ec-e23c96db457b",
   "metadata": {},
   "outputs": [],
   "source": [
    "class Dog: \n",
    "    # class attributes \n",
    "    species = \"Cute animals\"\n",
    "\n",
    "    # __something__ <-- dunder methods \n",
    "    \n",
    "    # instance attributes (unique for each instance)\n",
    "    def __init__(self, name, age):\n",
    "        self.name = name\n",
    "        self.age = age\n",
    "\n",
    "    # Pythonic way of printing instances\n",
    "    def __str__(self):\n",
    "        return f\"{self.name} is {self.age} years old\"\n",
    "\n",
    "    def bark(self, sound):\n",
    "        return f\"{self.name} says {sound}\"\n",
    "        "
   ]
  },
  {
   "cell_type": "code",
   "execution_count": 27,
   "id": "58b6572f-c4ac-47c6-a4a2-ffcc7f3c096a",
   "metadata": {},
   "outputs": [
    {
     "data": {
      "text/plain": [
       "'Jones'"
      ]
     },
     "execution_count": 27,
     "metadata": {},
     "output_type": "execute_result"
    }
   ],
   "source": [
    "a = Dog(\"Miles\", 4)\n",
    "b = Dog(\"Buddy\", 9)\n",
    "\n",
    "a.name = \"Jones\"\n",
    "a.name"
   ]
  },
  {
   "cell_type": "code",
   "execution_count": 28,
   "id": "7000c5b6-9313-409e-8bae-de673182e62c",
   "metadata": {},
   "outputs": [
    {
     "data": {
      "text/plain": [
       "'Jones says woof'"
      ]
     },
     "execution_count": 28,
     "metadata": {},
     "output_type": "execute_result"
    }
   ],
   "source": [
    "a.bark(\"woof\")"
   ]
  },
  {
   "cell_type": "code",
   "execution_count": 29,
   "id": "c06b059a-6156-475a-9496-5c9b0effcf5a",
   "metadata": {},
   "outputs": [
    {
     "name": "stdout",
     "output_type": "stream",
     "text": [
      "Jones is 4 years old\n"
     ]
    }
   ],
   "source": [
    "print(a)"
   ]
  },
  {
   "cell_type": "code",
   "execution_count": 30,
   "id": "1880acb3-6e97-4464-bb4b-d577a7249f5f",
   "metadata": {},
   "outputs": [],
   "source": [
    "class Car:\n",
    "    def __init__(self, color, mileage):\n",
    "        self.color = color\n",
    "        self.mileage = mileage\n",
    "\n",
    "    def __str__(self):\n",
    "        return f\"The {self.color} car has {self.mileage} miles\""
   ]
  },
  {
   "cell_type": "code",
   "execution_count": 31,
   "id": "a8d0c9c9-8c54-4cb1-8752-ad1dcce1da00",
   "metadata": {},
   "outputs": [
    {
     "name": "stdout",
     "output_type": "stream",
     "text": [
      "The blue car has 20000 miles The red car has 30000 miles\n"
     ]
    }
   ],
   "source": [
    "car1 = Car(\"blue\", 20000)\n",
    "car2 = Car(\"red\", 30000)\n",
    "\n",
    "print(car1, car2)"
   ]
  },
  {
   "cell_type": "code",
   "execution_count": 40,
   "id": "4199ae4b-d2d2-4caf-9e35-43f8aebb9862",
   "metadata": {},
   "outputs": [
    {
     "data": {
      "text/plain": [
       "['English']"
      ]
     },
     "execution_count": 40,
     "metadata": {},
     "output_type": "execute_result"
    }
   ],
   "source": [
    "class Parent: \n",
    "    speaks = [\"English\"]\n",
    "\n",
    "class Child(Parent):\n",
    "    def __init__(self):\n",
    "        super().__init__()\n",
    "        self.speaks.append(\"German\")\n",
    "\n",
    "Child.speaks"
   ]
  },
  {
   "cell_type": "code",
   "execution_count": 87,
   "id": "63901029-6b94-4e77-9b17-74c729283b5e",
   "metadata": {},
   "outputs": [],
   "source": [
    "class Dog:\n",
    "    species = \"Canis familiaris\"\n",
    "\n",
    "    def __init__(self, name, age):\n",
    "        self.name = name\n",
    "        self.age = age\n",
    "\n",
    "    def __str__(self):\n",
    "        return f\"{self.name} is {self.age} years old\"\n",
    "\n",
    "    def speak(self, sound):\n",
    "        return f\"{self.name} barks: {sound}\"\n",
    "\n",
    "    def bark(self):\n",
    "        return \"woof woof\"\n"
   ]
  },
  {
   "cell_type": "code",
   "execution_count": 88,
   "id": "e9acc4aa-6d7e-485e-af62-49e81a4dc785",
   "metadata": {},
   "outputs": [],
   "source": [
    "class Poodle(Dog):\n",
    "    def speak(self, sound=\"Woof\"):\n",
    "        return super().bark()\n",
    "    \n",
    "class Dachshund(Dog):\n",
    "    pass\n",
    "\n",
    "class Bulldog(Dog):\n",
    "    pass\n"
   ]
  },
  {
   "cell_type": "code",
   "execution_count": 89,
   "id": "c878df24-7d2f-47f5-8d84-b6ad2e3cbfba",
   "metadata": {},
   "outputs": [],
   "source": [
    "miles = Poodle(\"Miles\", 4)\n",
    "buddy = Dachshund(\"Buddy\", 9)\n",
    "jack = Bulldog(\"Jack\", 3)\n",
    "jim = Bulldog(\"Jim\", 5)"
   ]
  },
  {
   "cell_type": "code",
   "execution_count": 90,
   "id": "1aeb4642-368d-4106-881d-20af68fcb50c",
   "metadata": {},
   "outputs": [
    {
     "data": {
      "text/plain": [
       "False"
      ]
     },
     "execution_count": 90,
     "metadata": {},
     "output_type": "execute_result"
    }
   ],
   "source": [
    "miles.species\n",
    "isinstance(miles, Dog)\n",
    "isinstance(jack, Poodle)"
   ]
  },
  {
   "cell_type": "code",
   "execution_count": 91,
   "id": "a7ef725b-3083-4a07-84d0-f4000829edd5",
   "metadata": {},
   "outputs": [
    {
     "data": {
      "text/plain": [
       "'woof woof'"
      ]
     },
     "execution_count": 91,
     "metadata": {},
     "output_type": "execute_result"
    }
   ],
   "source": [
    "miles.speak()"
   ]
  },
  {
   "cell_type": "code",
   "execution_count": 92,
   "id": "670c0afb-5892-44c2-9365-4538c07cb8b9",
   "metadata": {},
   "outputs": [
    {
     "data": {
      "text/plain": [
       "'woof woof'"
      ]
     },
     "execution_count": 92,
     "metadata": {},
     "output_type": "execute_result"
    }
   ],
   "source": [
    "miles.speak()"
   ]
  },
  {
   "cell_type": "code",
   "execution_count": 93,
   "id": "7d97d0d8-ab27-44a5-829c-3586828da8dd",
   "metadata": {},
   "outputs": [
    {
     "data": {
      "text/plain": [
       "'Jimmy barks: Woof'"
      ]
     },
     "execution_count": 93,
     "metadata": {},
     "output_type": "execute_result"
    }
   ],
   "source": [
    "jimmy = Bulldog(\"Jimmy\", 5)\n",
    "jimmy.speak(\"Woof\")"
   ]
  },
  {
   "cell_type": "code",
   "execution_count": 94,
   "id": "658d8752-997e-44cd-b131-27cde8c3db8b",
   "metadata": {},
   "outputs": [],
   "source": [
    "# dog.py\n",
    "\n",
    "class Dog:\n",
    "    species = \"Canis familiaris\"\n",
    "\n",
    "    def __init__(self, name, age):\n",
    "        self.name = name\n",
    "        self.age = age\n",
    "\n",
    "    def __str__(self):\n",
    "        return f\"{self.name} is {self.age} years old\"\n",
    "\n",
    "    def speak(self, sound):\n",
    "        return f\"{self.name} says {sound}\""
   ]
  },
  {
   "cell_type": "code",
   "execution_count": 100,
   "id": "2622d92a-2ded-488d-90fc-9534a5c908ce",
   "metadata": {},
   "outputs": [
    {
     "data": {
      "text/plain": [
       "'Smith says Bark'"
      ]
     },
     "execution_count": 100,
     "metadata": {},
     "output_type": "execute_result"
    }
   ],
   "source": [
    "class GoldenRetriever(Dog):\n",
    "    def speak(self, sound=\"Bark\"):\n",
    "        return super().speak(sound)\n",
    "\n",
    "smith = GoldenRetriever(\"Smith\", 5)\n",
    "smith.speak()"
   ]
  },
  {
   "cell_type": "code",
   "execution_count": null,
   "id": "f54956db-0bba-475a-bcf3-8885b6808c53",
   "metadata": {},
   "outputs": [],
   "source": []
  }
 ],
 "metadata": {
  "kernelspec": {
   "display_name": "Python 3 (ipykernel)",
   "language": "python",
   "name": "python3"
  },
  "language_info": {
   "codemirror_mode": {
    "name": "ipython",
    "version": 3
   },
   "file_extension": ".py",
   "mimetype": "text/x-python",
   "name": "python",
   "nbconvert_exporter": "python",
   "pygments_lexer": "ipython3",
   "version": "3.11.0"
  }
 },
 "nbformat": 4,
 "nbformat_minor": 5
}
